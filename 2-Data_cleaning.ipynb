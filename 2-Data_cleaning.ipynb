{
 "cells": [
  {
   "cell_type": "code",
   "execution_count": 2,
   "metadata": {},
   "outputs": [],
   "source": [
    "#IMPORTS\n",
    "import pandas as pd"
   ]
  },
  {
   "cell_type": "code",
   "execution_count": 3,
   "metadata": {},
   "outputs": [],
   "source": [
    "#To read the data\n",
    "DC = pd.read_csv('DC_data.csv')\n",
    "Marvel = pd.read_csv('Marvel_data.csv')"
   ]
  },
  {
   "cell_type": "code",
   "execution_count": 5,
   "metadata": {},
   "outputs": [],
   "source": [
    "#To drop na values\n",
    "DC.dropna(inplace=True)\n",
    "Marvel.dropna(inplace=True)"
   ]
  },
  {
   "cell_type": "code",
   "execution_count": 6,
   "metadata": {},
   "outputs": [],
   "source": [
    "#As some characters appear in multiple universes, the website seperated them with parenthesis (i.e: Batman (The Batman tv series))\n",
    "#The function below is tasked to remove those strings\n",
    "\n",
    "def remove_par(universe):\n",
    "    for char in universe['Names']:\n",
    "        if '(' in char:\n",
    "            new_name = char.split(' (')[0]\n",
    "            (universe['Names'].replace(char, new_name, inplace=True))\n",
    "\n",
    "    return(universe)\n",
    "\n",
    "DC = remove_par(DC)\n",
    "Marvel = remove_par(Marvel)\n"
   ]
  },
  {
   "cell_type": "code",
   "execution_count": 7,
   "metadata": {},
   "outputs": [],
   "source": [
    "#DC in-dept cleaning\n",
    "\n",
    "#Exceptions to be cleaned\n",
    "#1- 'A.M.A.Z.O' has 3 duplicates however, the third one has an aditional dot at the end. The code below removes it\n",
    "DC.loc[DC['Names'] == 'A.M.A.Z.O.', 'Names'] = 'A.M.A.Z.O'\n",
    "\n",
    "#While cleaning the data, a 4th A.M.A.Z.O was spotted but named differently\n",
    "DC.loc[DC['Names'] == 'Amazo', 'Names'] = 'A.M.A.Z.O'\n",
    "\n",
    "#2- 'Joker', 'Flash' and 'Riddler' appear a second time in the dataframe with the determiner \"the\" at the beginning, the line below removes it\n",
    "DC.loc[DC['Names'] == 'The Joker', 'Names'] = 'Joker'\n",
    "DC.loc[DC['Names'] == 'The Flash', 'Names'] = 'Flash'\n",
    "DC.loc[DC['Names'] == 'The Riddler', 'Names'] = 'Riddler'\n"
   ]
  },
  {
   "cell_type": "code",
   "execution_count": 8,
   "metadata": {},
   "outputs": [],
   "source": [
    "#Marvel in-dept cleaning\n",
    "\n",
    "#Exceptions to be cleaned\n",
    "#1- A typo was found in a duplicate of 'Ikaris'\n",
    "Marvel.loc[Marvel['Names'] == 'Ikari', 'Names'] = 'Ikaris'"
   ]
  },
  {
   "cell_type": "code",
   "execution_count": 9,
   "metadata": {},
   "outputs": [],
   "source": [
    "#The webscrapping source seperated the characters by universe. In other words, there are duplicates. \n",
    "#To resolved that issue an average of all the stats will be made\n",
    "#A new df is returned with 2 decimals\n",
    "\n",
    "def duplicates(universe):\n",
    "    universe = universe.groupby(['Names']).mean().round(2)\n",
    "    universe.pop('Unnamed: 0')\n",
    "    universe.pop('Tier')\n",
    "    universe.reset_index(inplace = True)\n",
    "    return (universe)\n",
    "\n",
    "DC = duplicates(DC)\n",
    "Marvel = duplicates(Marvel)"
   ]
  },
  {
   "cell_type": "code",
   "execution_count": 10,
   "metadata": {},
   "outputs": [],
   "source": [
    "#To export the final data into a csv file\n",
    "DC.to_csv('DC', index = False)\n",
    "Marvel.to_csv('Marvel', index = False)"
   ]
  },
  {
   "cell_type": "code",
   "execution_count": 28,
   "metadata": {},
   "outputs": [
    {
     "name": "stdout",
     "output_type": "stream",
     "text": [
      "1860\n"
     ]
    }
   ],
   "source": [
    "#concat both datasets into one \"all_data\"\n",
    "all_data = pd.concat([DC, Marvel])\n",
    "print(len(all_data))"
   ]
  },
  {
   "cell_type": "code",
   "execution_count": 18,
   "metadata": {},
   "outputs": [],
   "source": [
    "#To create an empty dataframe to store the data\n",
    "battles = pd.DataFrame()\n",
    "\n",
    "#To loop through all the battle simulations and concat it to one \n",
    "for  i in range(1,53):\n",
    "    battles = pd.concat([battles, pd.read_csv(f'All_battle_results/battle_results_{i}.csv')])"
   ]
  },
  {
   "cell_type": "code",
   "execution_count": 25,
   "metadata": {},
   "outputs": [],
   "source": [
    "#To merge all battle results in order to only keep the data of superheroes that are also present in the 'all_data' dataframe\n",
    "#By dropping na, we simulataneously clean out the data\n",
    "battles = battles.merge(all_data, how = 'left', left_on = 'Name1', right_on = 'Names').dropna()\n",
    "battles = battles.merge(all_data, how = 'left', left_on = 'Name2', right_on = 'Names').dropna()\n"
   ]
  },
  {
   "cell_type": "code",
   "execution_count": 27,
   "metadata": {},
   "outputs": [],
   "source": [
    "#To export data into csv file\n",
    "battles.to_csv('battles_data.csv', index = False)"
   ]
  }
 ],
 "metadata": {
  "interpreter": {
   "hash": "0e661c9b9257ab871e53d15472c23269d9549b8940d624631ea5445fdea6d264"
  },
  "kernelspec": {
   "display_name": "Python 3.9.12 ('final_env')",
   "language": "python",
   "name": "python3"
  },
  "language_info": {
   "codemirror_mode": {
    "name": "ipython",
    "version": 3
   },
   "file_extension": ".py",
   "mimetype": "text/x-python",
   "name": "python",
   "nbconvert_exporter": "python",
   "pygments_lexer": "ipython3",
   "version": "3.9.12"
  },
  "orig_nbformat": 4
 },
 "nbformat": 4,
 "nbformat_minor": 2
}
