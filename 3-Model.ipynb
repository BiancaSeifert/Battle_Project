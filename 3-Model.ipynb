{
 "cells": [
  {
   "cell_type": "markdown",
   "metadata": {},
   "source": [
    "# Model"
   ]
  },
  {
   "cell_type": "code",
   "execution_count": 4,
   "metadata": {},
   "outputs": [],
   "source": [
    "#IMPORTS\n",
    "import pandas as pd\n",
    "import matplotlib.pyplot as plt\n",
    "import statsmodels.api as sm\n",
    "from sklearn.ensemble import RandomForestRegressor\n",
    "from sklearn.pipeline import Pipeline\n",
    "from sklearn.model_selection import GridSearchCV\n",
    "import sklearn as sk\n",
    "import pickle\n",
    "\n",
    "\n",
    "import pandas as pd\n",
    "import numpy as np\n",
    "from sklearn.ensemble import RandomForestClassifier\n",
    "from sklearn.metrics import mean_squared_error\n",
    "from sklearn.model_selection import train_test_split\n",
    "import matplotlib\n",
    "import matplotlib.pyplot as plt\n",
    "from sklearn.metrics import confusion_matrix\n",
    "import seaborn as sns\n"
   ]
  },
  {
   "cell_type": "code",
   "execution_count": 5,
   "metadata": {},
   "outputs": [],
   "source": [
    "#To read the data\n",
    "data = pd.read_csv('battles_data.csv')"
   ]
  },
  {
   "cell_type": "code",
   "execution_count": 6,
   "metadata": {},
   "outputs": [
    {
     "data": {
      "text/plain": [
       "22437.600000000002"
      ]
     },
     "execution_count": 6,
     "metadata": {},
     "output_type": "execute_result"
    }
   ],
   "source": [
    "#To split the data into 80% training and 20% testing\n",
    "_80 = len(data)\n",
    "80/100*_80\n"
   ]
  },
  {
   "cell_type": "code",
   "execution_count": 7,
   "metadata": {},
   "outputs": [],
   "source": [
    "#Assigning and spliting the data 80/20\n",
    "#For the y data, the first name has been selected randomly\n",
    "trainx = data[:22438]\n",
    "trainy = data['Name1_res'][:22438]\n",
    "\n",
    "testx = data[22438:]\n",
    "testy = data['Name1_res'][22438:]\n",
    "\n",
    "train_draw = trainx['Draw']\n",
    "test_draw  = testx['Draw']"
   ]
  },
  {
   "cell_type": "code",
   "execution_count": 8,
   "metadata": {},
   "outputs": [],
   "source": [
    "#To prepare the data to be modelled, the irrelevent columns are dropped\n",
    "trainx = trainx.drop(['Name1', 'Name2', 'Name1_res', 'Draw', 'Name2_res', 'Names_x', 'Names_y'], axis = 1)\n",
    "testx = testx.drop(['Name1', 'Name2', 'Name1_res', 'Draw', 'Name2_res', 'Names_x', 'Names_y'], axis = 1)"
   ]
  },
  {
   "cell_type": "code",
   "execution_count": null,
   "metadata": {},
   "outputs": [],
   "source": [
    "#The first attempt is to procede with a regression model"
   ]
  },
  {
   "cell_type": "code",
   "execution_count": 106,
   "metadata": {},
   "outputs": [],
   "source": [
    "#A constant has been added but the model performs better without one\n",
    "# trainx = sm.add_constant(trainx)\n",
    "# testx = sm.add_constant(testx)"
   ]
  },
  {
   "cell_type": "code",
   "execution_count": 7,
   "metadata": {},
   "outputs": [
    {
     "data": {
      "text/html": [
       "<table class=\"simpletable\">\n",
       "<caption>OLS Regression Results</caption>\n",
       "<tr>\n",
       "  <th>Dep. Variable:</th>        <td>Name1_res</td>    <th>  R-squared (uncentered):</th>       <td>   0.715</td>  \n",
       "</tr>\n",
       "<tr>\n",
       "  <th>Model:</th>                   <td>OLS</td>       <th>  Adj. R-squared (uncentered):</th>  <td>   0.714</td>  \n",
       "</tr>\n",
       "<tr>\n",
       "  <th>Method:</th>             <td>Least Squares</td>  <th>  F-statistic:       </th>           <td>   4680.</td>  \n",
       "</tr>\n",
       "<tr>\n",
       "  <th>Date:</th>             <td>Sat, 21 May 2022</td> <th>  Prob (F-statistic):</th>            <td>  0.00</td>   \n",
       "</tr>\n",
       "<tr>\n",
       "  <th>Time:</th>                 <td>15:23:04</td>     <th>  Log-Likelihood:    </th>          <td>-1.1191e+05</td>\n",
       "</tr>\n",
       "<tr>\n",
       "  <th>No. Observations:</th>      <td> 22438</td>      <th>  AIC:               </th>           <td>2.238e+05</td> \n",
       "</tr>\n",
       "<tr>\n",
       "  <th>Df Residuals:</th>          <td> 22426</td>      <th>  BIC:               </th>           <td>2.239e+05</td> \n",
       "</tr>\n",
       "<tr>\n",
       "  <th>Df Model:</th>              <td>    12</td>      <th>                     </th>               <td> </td>     \n",
       "</tr>\n",
       "<tr>\n",
       "  <th>Covariance Type:</th>      <td>nonrobust</td>    <th>                     </th>               <td> </td>     \n",
       "</tr>\n",
       "</table>\n",
       "<table class=\"simpletable\">\n",
       "<tr>\n",
       "         <td></td>           <th>coef</th>     <th>std err</th>      <th>t</th>      <th>P>|t|</th>  <th>[0.025</th>    <th>0.975]</th>  \n",
       "</tr>\n",
       "<tr>\n",
       "  <th>Intelligence_x</th> <td>    0.4176</td> <td>    0.018</td> <td>   22.834</td> <td> 0.000</td> <td>    0.382</td> <td>    0.453</td>\n",
       "</tr>\n",
       "<tr>\n",
       "  <th>Strength_x</th>     <td>    0.1288</td> <td>    0.018</td> <td>    7.013</td> <td> 0.000</td> <td>    0.093</td> <td>    0.165</td>\n",
       "</tr>\n",
       "<tr>\n",
       "  <th>Speed_x</th>        <td>   -0.0256</td> <td>    0.018</td> <td>   -1.407</td> <td> 0.159</td> <td>   -0.061</td> <td>    0.010</td>\n",
       "</tr>\n",
       "<tr>\n",
       "  <th>Durability_x</th>   <td>   -0.0816</td> <td>    0.026</td> <td>   -3.176</td> <td> 0.001</td> <td>   -0.132</td> <td>   -0.031</td>\n",
       "</tr>\n",
       "<tr>\n",
       "  <th>Power_x</th>        <td>    0.6222</td> <td>    0.020</td> <td>   30.472</td> <td> 0.000</td> <td>    0.582</td> <td>    0.662</td>\n",
       "</tr>\n",
       "<tr>\n",
       "  <th>Combat_x</th>       <td>    0.2329</td> <td>    0.013</td> <td>   17.985</td> <td> 0.000</td> <td>    0.207</td> <td>    0.258</td>\n",
       "</tr>\n",
       "<tr>\n",
       "  <th>Intelligence_y</th> <td>    0.1079</td> <td>    0.018</td> <td>    6.059</td> <td> 0.000</td> <td>    0.073</td> <td>    0.143</td>\n",
       "</tr>\n",
       "<tr>\n",
       "  <th>Strength_y</th>     <td>   -0.0642</td> <td>    0.018</td> <td>   -3.613</td> <td> 0.000</td> <td>   -0.099</td> <td>   -0.029</td>\n",
       "</tr>\n",
       "<tr>\n",
       "  <th>Speed_y</th>        <td>   -0.1663</td> <td>    0.018</td> <td>   -9.304</td> <td> 0.000</td> <td>   -0.201</td> <td>   -0.131</td>\n",
       "</tr>\n",
       "<tr>\n",
       "  <th>Durability_y</th>   <td>   -0.1066</td> <td>    0.025</td> <td>   -4.331</td> <td> 0.000</td> <td>   -0.155</td> <td>   -0.058</td>\n",
       "</tr>\n",
       "<tr>\n",
       "  <th>Power_y</th>        <td>   -0.3946</td> <td>    0.019</td> <td>  -20.253</td> <td> 0.000</td> <td>   -0.433</td> <td>   -0.356</td>\n",
       "</tr>\n",
       "<tr>\n",
       "  <th>Combat_y</th>       <td>   -0.0430</td> <td>    0.013</td> <td>   -3.383</td> <td> 0.001</td> <td>   -0.068</td> <td>   -0.018</td>\n",
       "</tr>\n",
       "</table>\n",
       "<table class=\"simpletable\">\n",
       "<tr>\n",
       "  <th>Omnibus:</th>       <td>418.966</td> <th>  Durbin-Watson:     </th> <td>   1.786</td>\n",
       "</tr>\n",
       "<tr>\n",
       "  <th>Prob(Omnibus):</th> <td> 0.000</td>  <th>  Jarque-Bera (JB):  </th> <td> 229.651</td>\n",
       "</tr>\n",
       "<tr>\n",
       "  <th>Skew:</th>          <td> 0.004</td>  <th>  Prob(JB):          </th> <td>1.36e-50</td>\n",
       "</tr>\n",
       "<tr>\n",
       "  <th>Kurtosis:</th>      <td> 2.504</td>  <th>  Cond. No.          </th> <td>    27.8</td>\n",
       "</tr>\n",
       "</table><br/><br/>Notes:<br/>[1] R² is computed without centering (uncentered) since the model does not contain a constant.<br/>[2] Standard Errors assume that the covariance matrix of the errors is correctly specified."
      ],
      "text/plain": [
       "<class 'statsmodels.iolib.summary.Summary'>\n",
       "\"\"\"\n",
       "                                 OLS Regression Results                                \n",
       "=======================================================================================\n",
       "Dep. Variable:              Name1_res   R-squared (uncentered):                   0.715\n",
       "Model:                            OLS   Adj. R-squared (uncentered):              0.714\n",
       "Method:                 Least Squares   F-statistic:                              4680.\n",
       "Date:                Sat, 21 May 2022   Prob (F-statistic):                        0.00\n",
       "Time:                        15:23:04   Log-Likelihood:                     -1.1191e+05\n",
       "No. Observations:               22438   AIC:                                  2.238e+05\n",
       "Df Residuals:                   22426   BIC:                                  2.239e+05\n",
       "Df Model:                          12                                                  \n",
       "Covariance Type:            nonrobust                                                  \n",
       "==================================================================================\n",
       "                     coef    std err          t      P>|t|      [0.025      0.975]\n",
       "----------------------------------------------------------------------------------\n",
       "Intelligence_x     0.4176      0.018     22.834      0.000       0.382       0.453\n",
       "Strength_x         0.1288      0.018      7.013      0.000       0.093       0.165\n",
       "Speed_x           -0.0256      0.018     -1.407      0.159      -0.061       0.010\n",
       "Durability_x      -0.0816      0.026     -3.176      0.001      -0.132      -0.031\n",
       "Power_x            0.6222      0.020     30.472      0.000       0.582       0.662\n",
       "Combat_x           0.2329      0.013     17.985      0.000       0.207       0.258\n",
       "Intelligence_y     0.1079      0.018      6.059      0.000       0.073       0.143\n",
       "Strength_y        -0.0642      0.018     -3.613      0.000      -0.099      -0.029\n",
       "Speed_y           -0.1663      0.018     -9.304      0.000      -0.201      -0.131\n",
       "Durability_y      -0.1066      0.025     -4.331      0.000      -0.155      -0.058\n",
       "Power_y           -0.3946      0.019    -20.253      0.000      -0.433      -0.356\n",
       "Combat_y          -0.0430      0.013     -3.383      0.001      -0.068      -0.018\n",
       "==============================================================================\n",
       "Omnibus:                      418.966   Durbin-Watson:                   1.786\n",
       "Prob(Omnibus):                  0.000   Jarque-Bera (JB):              229.651\n",
       "Skew:                           0.004   Prob(JB):                     1.36e-50\n",
       "Kurtosis:                       2.504   Cond. No.                         27.8\n",
       "==============================================================================\n",
       "\n",
       "Notes:\n",
       "[1] R² is computed without centering (uncentered) since the model does not contain a constant.\n",
       "[2] Standard Errors assume that the covariance matrix of the errors is correctly specified.\n",
       "\"\"\""
      ]
     },
     "execution_count": 7,
     "metadata": {},
     "output_type": "execute_result"
    }
   ],
   "source": [
    "#To model the data\n",
    "model = sm.OLS(trainy, trainx).fit()\n",
    "model.summary()"
   ]
  },
  {
   "cell_type": "code",
   "execution_count": null,
   "metadata": {},
   "outputs": [],
   "source": [
    "#The model performs better without a constant. In addition, the p values are below the standard 0.05"
   ]
  },
  {
   "cell_type": "code",
   "execution_count": 8,
   "metadata": {},
   "outputs": [],
   "source": [
    "predy = model.predict(testx)"
   ]
  },
  {
   "cell_type": "code",
   "execution_count": 9,
   "metadata": {},
   "outputs": [
    {
     "data": {
      "text/plain": [
       "<matplotlib.collections.PathCollection at 0x2590b5e7880>"
      ]
     },
     "execution_count": 9,
     "metadata": {},
     "output_type": "execute_result"
    },
    {
     "data": {
      "image/png": "[encoded data removed]",
      "text/plain": [
       "<Figure size 432x288 with 1 Axes>"
      ]
     },
     "metadata": {
      "needs_background": "light"
     },
     "output_type": "display_data"
    }
   ],
   "source": [
    "plt.scatter(predy, testy)"
   ]
  },
  {
   "cell_type": "code",
   "execution_count": null,
   "metadata": {},
   "outputs": [],
   "source": [
    "#A classification model seems to be a better fit as we want the model to predict the data into a category. In this case, it would be a win, loss or a draw"
   ]
  },
  {
   "cell_type": "code",
   "execution_count": null,
   "metadata": {},
   "outputs": [],
   "source": [
    "#The second attempt is to perform a Classification model"
   ]
  },
  {
   "cell_type": "code",
   "execution_count": 9,
   "metadata": {},
   "outputs": [
    {
     "name": "stdout",
     "output_type": "stream",
     "text": [
      "0.7463005883401675\n"
     ]
    },
    {
     "data": {
      "text/plain": [
       "0.0    2783\n",
       "1.0    2765\n",
       "2.0      61\n",
       "Name: Name1_res, dtype: int64"
      ]
     },
     "execution_count": 9,
     "metadata": {},
     "output_type": "execute_result"
    },
    {
     "data": {
      "image/png": "[encoded data removed]",
      "text/plain": [
       "<Figure size 432x288 with 2 Axes>"
      ]
     },
     "metadata": {
      "needs_background": "light"
     },
     "output_type": "display_data"
    }
   ],
   "source": [
    "\n",
    "# CLassification \n",
    "# Where is counter intuitive so the value is set to all fields where the condition is false.\n",
    "# So when we set the values of y to 1 it is for elements whose results are less than 50\n",
    "testy.where(testy > 50, 0, inplace=True)  # 0 = loss\n",
    "testy.where(testy <= 50, 1, inplace=True)  # 1 = Win\n",
    "\n",
    "trainy.where(trainy > 50, 0, inplace=True)  # 0 = loss\n",
    "trainy.where(trainy <= 50, 1, inplace=True)  # 1 = Win\n",
    "\n",
    "train_draw = train_draw >= 50\n",
    "test_draw = test_draw >= 50\n",
    "\n",
    "testy[test_draw] = 2\n",
    "trainy[train_draw] = 2\n",
    "\n",
    "\n",
    "class_model = RandomForestClassifier(\n",
    "        n_estimators = 100,\n",
    "        criterion = 'gini'\n",
    "    ).fit(trainx, trainy)\n",
    "\n",
    "\n",
    "print(class_model.score(testx, testy))\n",
    "pred = class_model.predict(testx)\n",
    "\n",
    "\n",
    "cm = confusion_matrix(testy, pred)\n",
    "hmap = sns.heatmap(cm, annot = True, fmt='g')\n",
    "\n",
    "trainy.unique()\n",
    "testy.value_counts()\n"
   ]
  },
  {
   "cell_type": "code",
   "execution_count": 11,
   "metadata": {},
   "outputs": [],
   "source": [
    "#Export\n",
    "\n",
    "pickle.dump(class_model, open('superheroe_model.sm', 'xb'))"
   ]
  },
  {
   "cell_type": "code",
   "execution_count": null,
   "metadata": {},
   "outputs": [],
   "source": [
    "-do poly\n",
    "-settings"
   ]
  }
 ],
 "metadata": {
  "interpreter": {
   "hash": "84430998ba504e8dffa029ad9fc2f03fc039634a6f12ea7e80284dea5fe9ffdb"
  },
  "kernelspec": {
   "display_name": "Python 3.9.7 ('final_env': venv)",
   "language": "python",
   "name": "python3"
  },
  "language_info": {
   "codemirror_mode": {
    "name": "ipython",
    "version": 3
   },
   "file_extension": ".py",
   "mimetype": "text/x-python",
   "name": "python",
   "nbconvert_exporter": "python",
   "pygments_lexer": "ipython3",
   "version": "3.9.7"
  },
  "orig_nbformat": 4
 },
 "nbformat": 4,
 "nbformat_minor": 2
}
