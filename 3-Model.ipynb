{
 "cells": [
  {
   "cell_type": "code",
   "execution_count": 1,
   "metadata": {},
   "outputs": [],
   "source": [
    "#IMPORTS\n",
    "import pandas as pd\n",
    "import matplotlib.pyplot as plt\n",
    "import statsmodels.api as sm\n",
    "from sklearn.ensemble import RandomForestRegressor\n",
    "from sklearn.pipeline import Pipeline\n",
    "from sklearn.model_selection import GridSearchCV\n",
    "import sklearn as sk\n",
    "\n"
   ]
  },
  {
   "cell_type": "code",
   "execution_count": 2,
   "metadata": {},
   "outputs": [],
   "source": [
    "#To read the data\n",
    "data = pd.read_csv('battles_data.csv')"
   ]
  },
  {
   "cell_type": "code",
   "execution_count": 3,
   "metadata": {},
   "outputs": [
    {
     "data": {
      "text/plain": [
       "22437.600000000002"
      ]
     },
     "execution_count": 3,
     "metadata": {},
     "output_type": "execute_result"
    }
   ],
   "source": [
    "#To split the data into 80% training and 20% testing\n",
    "_80 = len(data)\n",
    "80/100*_80\n"
   ]
  },
  {
   "cell_type": "code",
   "execution_count": 4,
   "metadata": {},
   "outputs": [],
   "source": [
    "#Assigning and spliting the data 80/20\n",
    "#For the y data, the first name has been selected randomly\n",
    "trainx = data[:22438]\n",
    "trainy = data['Name1_res'][:22438]\n",
    "\n",
    "testx = data[22438:]\n",
    "testy = data['Name1_res'][22438:]\n",
    "\n"
   ]
  },
  {
   "cell_type": "code",
   "execution_count": 5,
   "metadata": {},
   "outputs": [],
   "source": [
    "#To prepare the data to be modelled, the irrelevent columns are dropped\n",
    "trainx = trainx.drop(['Name1', 'Name2', 'Name1_res', 'Draw', 'Name2_res', 'Names_x', 'Names_y'], axis = 1)\n",
    "testx = testx.drop(['Name1', 'Name2', 'Name1_res', 'Draw', 'Name2_res', 'Names_x', 'Names_y'], axis = 1)"
   ]
  },
  {
   "cell_type": "code",
   "execution_count": 6,
   "metadata": {},
   "outputs": [
    {
     "data": {
      "text/html": [
       "<div>\n",
       "<style scoped>\n",
       "    .dataframe tbody tr th:only-of-type {\n",
       "        vertical-align: middle;\n",
       "    }\n",
       "\n",
       "    .dataframe tbody tr th {\n",
       "        vertical-align: top;\n",
       "    }\n",
       "\n",
       "    .dataframe thead th {\n",
       "        text-align: right;\n",
       "    }\n",
       "</style>\n",
       "<table border=\"1\" class=\"dataframe\">\n",
       "  <thead>\n",
       "    <tr style=\"text-align: right;\">\n",
       "      <th></th>\n",
       "      <th>Intelligence_x</th>\n",
       "      <th>Strength_x</th>\n",
       "      <th>Speed_x</th>\n",
       "      <th>Durability_x</th>\n",
       "      <th>Power_x</th>\n",
       "      <th>Combat_x</th>\n",
       "      <th>Intelligence_y</th>\n",
       "      <th>Strength_y</th>\n",
       "      <th>Speed_y</th>\n",
       "      <th>Durability_y</th>\n",
       "      <th>Power_y</th>\n",
       "      <th>Combat_y</th>\n",
       "    </tr>\n",
       "  </thead>\n",
       "  <tbody>\n",
       "    <tr>\n",
       "      <th>0</th>\n",
       "      <td>82.33</td>\n",
       "      <td>17.62</td>\n",
       "      <td>21.84</td>\n",
       "      <td>18.40</td>\n",
       "      <td>24.60</td>\n",
       "      <td>92.56</td>\n",
       "      <td>80.13</td>\n",
       "      <td>93.59</td>\n",
       "      <td>88.62</td>\n",
       "      <td>77.69</td>\n",
       "      <td>83.72</td>\n",
       "      <td>70.90</td>\n",
       "    </tr>\n",
       "    <tr>\n",
       "      <th>1</th>\n",
       "      <td>65.83</td>\n",
       "      <td>91.39</td>\n",
       "      <td>62.83</td>\n",
       "      <td>78.89</td>\n",
       "      <td>85.56</td>\n",
       "      <td>68.06</td>\n",
       "      <td>80.13</td>\n",
       "      <td>93.59</td>\n",
       "      <td>88.62</td>\n",
       "      <td>77.69</td>\n",
       "      <td>83.72</td>\n",
       "      <td>70.90</td>\n",
       "    </tr>\n",
       "    <tr>\n",
       "      <th>2</th>\n",
       "      <td>65.83</td>\n",
       "      <td>91.39</td>\n",
       "      <td>62.83</td>\n",
       "      <td>78.89</td>\n",
       "      <td>85.56</td>\n",
       "      <td>68.06</td>\n",
       "      <td>88.08</td>\n",
       "      <td>78.85</td>\n",
       "      <td>65.58</td>\n",
       "      <td>71.27</td>\n",
       "      <td>80.58</td>\n",
       "      <td>71.54</td>\n",
       "    </tr>\n",
       "    <tr>\n",
       "      <th>3</th>\n",
       "      <td>58.33</td>\n",
       "      <td>24.33</td>\n",
       "      <td>31.33</td>\n",
       "      <td>50.00</td>\n",
       "      <td>71.67</td>\n",
       "      <td>56.67</td>\n",
       "      <td>65.00</td>\n",
       "      <td>8.00</td>\n",
       "      <td>35.00</td>\n",
       "      <td>36.67</td>\n",
       "      <td>56.67</td>\n",
       "      <td>48.33</td>\n",
       "    </tr>\n",
       "    <tr>\n",
       "      <th>4</th>\n",
       "      <td>65.00</td>\n",
       "      <td>17.33</td>\n",
       "      <td>18.83</td>\n",
       "      <td>56.67</td>\n",
       "      <td>52.50</td>\n",
       "      <td>82.50</td>\n",
       "      <td>58.75</td>\n",
       "      <td>4.12</td>\n",
       "      <td>10.62</td>\n",
       "      <td>9.56</td>\n",
       "      <td>14.19</td>\n",
       "      <td>59.69</td>\n",
       "    </tr>\n",
       "    <tr>\n",
       "      <th>...</th>\n",
       "      <td>...</td>\n",
       "      <td>...</td>\n",
       "      <td>...</td>\n",
       "      <td>...</td>\n",
       "      <td>...</td>\n",
       "      <td>...</td>\n",
       "      <td>...</td>\n",
       "      <td>...</td>\n",
       "      <td>...</td>\n",
       "      <td>...</td>\n",
       "      <td>...</td>\n",
       "      <td>...</td>\n",
       "    </tr>\n",
       "    <tr>\n",
       "      <th>22433</th>\n",
       "      <td>76.67</td>\n",
       "      <td>96.67</td>\n",
       "      <td>100.00</td>\n",
       "      <td>100.00</td>\n",
       "      <td>100.00</td>\n",
       "      <td>66.67</td>\n",
       "      <td>100.00</td>\n",
       "      <td>100.00</td>\n",
       "      <td>100.00</td>\n",
       "      <td>100.00</td>\n",
       "      <td>100.00</td>\n",
       "      <td>100.00</td>\n",
       "    </tr>\n",
       "    <tr>\n",
       "      <th>22434</th>\n",
       "      <td>100.00</td>\n",
       "      <td>68.60</td>\n",
       "      <td>71.20</td>\n",
       "      <td>74.00</td>\n",
       "      <td>96.00</td>\n",
       "      <td>100.00</td>\n",
       "      <td>100.00</td>\n",
       "      <td>100.00</td>\n",
       "      <td>100.00</td>\n",
       "      <td>100.00</td>\n",
       "      <td>100.00</td>\n",
       "      <td>100.00</td>\n",
       "    </tr>\n",
       "    <tr>\n",
       "      <th>22435</th>\n",
       "      <td>82.14</td>\n",
       "      <td>20.43</td>\n",
       "      <td>27.29</td>\n",
       "      <td>36.43</td>\n",
       "      <td>77.14</td>\n",
       "      <td>53.57</td>\n",
       "      <td>64.00</td>\n",
       "      <td>2.60</td>\n",
       "      <td>10.60</td>\n",
       "      <td>10.40</td>\n",
       "      <td>17.60</td>\n",
       "      <td>82.00</td>\n",
       "    </tr>\n",
       "    <tr>\n",
       "      <th>22436</th>\n",
       "      <td>88.33</td>\n",
       "      <td>50.00</td>\n",
       "      <td>49.44</td>\n",
       "      <td>50.22</td>\n",
       "      <td>51.67</td>\n",
       "      <td>97.78</td>\n",
       "      <td>82.50</td>\n",
       "      <td>40.00</td>\n",
       "      <td>27.50</td>\n",
       "      <td>25.00</td>\n",
       "      <td>45.00</td>\n",
       "      <td>70.00</td>\n",
       "    </tr>\n",
       "    <tr>\n",
       "      <th>22437</th>\n",
       "      <td>65.71</td>\n",
       "      <td>42.29</td>\n",
       "      <td>34.86</td>\n",
       "      <td>33.57</td>\n",
       "      <td>60.00</td>\n",
       "      <td>73.57</td>\n",
       "      <td>82.50</td>\n",
       "      <td>40.00</td>\n",
       "      <td>27.50</td>\n",
       "      <td>25.00</td>\n",
       "      <td>45.00</td>\n",
       "      <td>70.00</td>\n",
       "    </tr>\n",
       "  </tbody>\n",
       "</table>\n",
       "<p>22438 rows × 12 columns</p>\n",
       "</div>"
      ],
      "text/plain": [
       "       Intelligence_x  Strength_x  Speed_x  Durability_x  Power_x  Combat_x  \\\n",
       "0               82.33       17.62    21.84         18.40    24.60     92.56   \n",
       "1               65.83       91.39    62.83         78.89    85.56     68.06   \n",
       "2               65.83       91.39    62.83         78.89    85.56     68.06   \n",
       "3               58.33       24.33    31.33         50.00    71.67     56.67   \n",
       "4               65.00       17.33    18.83         56.67    52.50     82.50   \n",
       "...               ...         ...      ...           ...      ...       ...   \n",
       "22433           76.67       96.67   100.00        100.00   100.00     66.67   \n",
       "22434          100.00       68.60    71.20         74.00    96.00    100.00   \n",
       "22435           82.14       20.43    27.29         36.43    77.14     53.57   \n",
       "22436           88.33       50.00    49.44         50.22    51.67     97.78   \n",
       "22437           65.71       42.29    34.86         33.57    60.00     73.57   \n",
       "\n",
       "       Intelligence_y  Strength_y  Speed_y  Durability_y  Power_y  Combat_y  \n",
       "0               80.13       93.59    88.62         77.69    83.72     70.90  \n",
       "1               80.13       93.59    88.62         77.69    83.72     70.90  \n",
       "2               88.08       78.85    65.58         71.27    80.58     71.54  \n",
       "3               65.00        8.00    35.00         36.67    56.67     48.33  \n",
       "4               58.75        4.12    10.62          9.56    14.19     59.69  \n",
       "...               ...         ...      ...           ...      ...       ...  \n",
       "22433          100.00      100.00   100.00        100.00   100.00    100.00  \n",
       "22434          100.00      100.00   100.00        100.00   100.00    100.00  \n",
       "22435           64.00        2.60    10.60         10.40    17.60     82.00  \n",
       "22436           82.50       40.00    27.50         25.00    45.00     70.00  \n",
       "22437           82.50       40.00    27.50         25.00    45.00     70.00  \n",
       "\n",
       "[22438 rows x 12 columns]"
      ]
     },
     "execution_count": 6,
     "metadata": {},
     "output_type": "execute_result"
    }
   ],
   "source": [
    "trainx"
   ]
  },
  {
   "cell_type": "code",
   "execution_count": null,
   "metadata": {},
   "outputs": [],
   "source": [
    "#The first attempt is to procede with a regression model"
   ]
  },
  {
   "cell_type": "code",
   "execution_count": 106,
   "metadata": {},
   "outputs": [],
   "source": [
    "#A constant has been added but the model performs better without one\n",
    "# trainx = sm.add_constant(trainx)\n",
    "# testx = sm.add_constant(testx)"
   ]
  },
  {
   "cell_type": "code",
   "execution_count": 8,
   "metadata": {},
   "outputs": [
    {
     "data": {
      "text/html": [
       "<table class=\"simpletable\">\n",
       "<caption>OLS Regression Results</caption>\n",
       "<tr>\n",
       "  <th>Dep. Variable:</th>        <td>Name1_res</td>    <th>  R-squared (uncentered):</th>       <td>   0.715</td>  \n",
       "</tr>\n",
       "<tr>\n",
       "  <th>Model:</th>                   <td>OLS</td>       <th>  Adj. R-squared (uncentered):</th>  <td>   0.714</td>  \n",
       "</tr>\n",
       "<tr>\n",
       "  <th>Method:</th>             <td>Least Squares</td>  <th>  F-statistic:       </th>           <td>   4680.</td>  \n",
       "</tr>\n",
       "<tr>\n",
       "  <th>Date:</th>             <td>Sat, 21 May 2022</td> <th>  Prob (F-statistic):</th>            <td>  0.00</td>   \n",
       "</tr>\n",
       "<tr>\n",
       "  <th>Time:</th>                 <td>00:35:54</td>     <th>  Log-Likelihood:    </th>          <td>-1.1191e+05</td>\n",
       "</tr>\n",
       "<tr>\n",
       "  <th>No. Observations:</th>      <td> 22438</td>      <th>  AIC:               </th>           <td>2.238e+05</td> \n",
       "</tr>\n",
       "<tr>\n",
       "  <th>Df Residuals:</th>          <td> 22426</td>      <th>  BIC:               </th>           <td>2.239e+05</td> \n",
       "</tr>\n",
       "<tr>\n",
       "  <th>Df Model:</th>              <td>    12</td>      <th>                     </th>               <td> </td>     \n",
       "</tr>\n",
       "<tr>\n",
       "  <th>Covariance Type:</th>      <td>nonrobust</td>    <th>                     </th>               <td> </td>     \n",
       "</tr>\n",
       "</table>\n",
       "<table class=\"simpletable\">\n",
       "<tr>\n",
       "         <td></td>           <th>coef</th>     <th>std err</th>      <th>t</th>      <th>P>|t|</th>  <th>[0.025</th>    <th>0.975]</th>  \n",
       "</tr>\n",
       "<tr>\n",
       "  <th>Intelligence_x</th> <td>    0.4176</td> <td>    0.018</td> <td>   22.834</td> <td> 0.000</td> <td>    0.382</td> <td>    0.453</td>\n",
       "</tr>\n",
       "<tr>\n",
       "  <th>Strength_x</th>     <td>    0.1288</td> <td>    0.018</td> <td>    7.013</td> <td> 0.000</td> <td>    0.093</td> <td>    0.165</td>\n",
       "</tr>\n",
       "<tr>\n",
       "  <th>Speed_x</th>        <td>   -0.0256</td> <td>    0.018</td> <td>   -1.407</td> <td> 0.159</td> <td>   -0.061</td> <td>    0.010</td>\n",
       "</tr>\n",
       "<tr>\n",
       "  <th>Durability_x</th>   <td>   -0.0816</td> <td>    0.026</td> <td>   -3.176</td> <td> 0.001</td> <td>   -0.132</td> <td>   -0.031</td>\n",
       "</tr>\n",
       "<tr>\n",
       "  <th>Power_x</th>        <td>    0.6222</td> <td>    0.020</td> <td>   30.472</td> <td> 0.000</td> <td>    0.582</td> <td>    0.662</td>\n",
       "</tr>\n",
       "<tr>\n",
       "  <th>Combat_x</th>       <td>    0.2329</td> <td>    0.013</td> <td>   17.985</td> <td> 0.000</td> <td>    0.207</td> <td>    0.258</td>\n",
       "</tr>\n",
       "<tr>\n",
       "  <th>Intelligence_y</th> <td>    0.1079</td> <td>    0.018</td> <td>    6.059</td> <td> 0.000</td> <td>    0.073</td> <td>    0.143</td>\n",
       "</tr>\n",
       "<tr>\n",
       "  <th>Strength_y</th>     <td>   -0.0642</td> <td>    0.018</td> <td>   -3.613</td> <td> 0.000</td> <td>   -0.099</td> <td>   -0.029</td>\n",
       "</tr>\n",
       "<tr>\n",
       "  <th>Speed_y</th>        <td>   -0.1663</td> <td>    0.018</td> <td>   -9.304</td> <td> 0.000</td> <td>   -0.201</td> <td>   -0.131</td>\n",
       "</tr>\n",
       "<tr>\n",
       "  <th>Durability_y</th>   <td>   -0.1066</td> <td>    0.025</td> <td>   -4.331</td> <td> 0.000</td> <td>   -0.155</td> <td>   -0.058</td>\n",
       "</tr>\n",
       "<tr>\n",
       "  <th>Power_y</th>        <td>   -0.3946</td> <td>    0.019</td> <td>  -20.253</td> <td> 0.000</td> <td>   -0.433</td> <td>   -0.356</td>\n",
       "</tr>\n",
       "<tr>\n",
       "  <th>Combat_y</th>       <td>   -0.0430</td> <td>    0.013</td> <td>   -3.383</td> <td> 0.001</td> <td>   -0.068</td> <td>   -0.018</td>\n",
       "</tr>\n",
       "</table>\n",
       "<table class=\"simpletable\">\n",
       "<tr>\n",
       "  <th>Omnibus:</th>       <td>418.966</td> <th>  Durbin-Watson:     </th> <td>   1.786</td>\n",
       "</tr>\n",
       "<tr>\n",
       "  <th>Prob(Omnibus):</th> <td> 0.000</td>  <th>  Jarque-Bera (JB):  </th> <td> 229.651</td>\n",
       "</tr>\n",
       "<tr>\n",
       "  <th>Skew:</th>          <td> 0.004</td>  <th>  Prob(JB):          </th> <td>1.36e-50</td>\n",
       "</tr>\n",
       "<tr>\n",
       "  <th>Kurtosis:</th>      <td> 2.504</td>  <th>  Cond. No.          </th> <td>    27.8</td>\n",
       "</tr>\n",
       "</table><br/><br/>Notes:<br/>[1] R² is computed without centering (uncentered) since the model does not contain a constant.<br/>[2] Standard Errors assume that the covariance matrix of the errors is correctly specified."
      ],
      "text/plain": [
       "<class 'statsmodels.iolib.summary.Summary'>\n",
       "\"\"\"\n",
       "                                 OLS Regression Results                                \n",
       "=======================================================================================\n",
       "Dep. Variable:              Name1_res   R-squared (uncentered):                   0.715\n",
       "Model:                            OLS   Adj. R-squared (uncentered):              0.714\n",
       "Method:                 Least Squares   F-statistic:                              4680.\n",
       "Date:                Sat, 21 May 2022   Prob (F-statistic):                        0.00\n",
       "Time:                        00:35:54   Log-Likelihood:                     -1.1191e+05\n",
       "No. Observations:               22438   AIC:                                  2.238e+05\n",
       "Df Residuals:                   22426   BIC:                                  2.239e+05\n",
       "Df Model:                          12                                                  \n",
       "Covariance Type:            nonrobust                                                  \n",
       "==================================================================================\n",
       "                     coef    std err          t      P>|t|      [0.025      0.975]\n",
       "----------------------------------------------------------------------------------\n",
       "Intelligence_x     0.4176      0.018     22.834      0.000       0.382       0.453\n",
       "Strength_x         0.1288      0.018      7.013      0.000       0.093       0.165\n",
       "Speed_x           -0.0256      0.018     -1.407      0.159      -0.061       0.010\n",
       "Durability_x      -0.0816      0.026     -3.176      0.001      -0.132      -0.031\n",
       "Power_x            0.6222      0.020     30.472      0.000       0.582       0.662\n",
       "Combat_x           0.2329      0.013     17.985      0.000       0.207       0.258\n",
       "Intelligence_y     0.1079      0.018      6.059      0.000       0.073       0.143\n",
       "Strength_y        -0.0642      0.018     -3.613      0.000      -0.099      -0.029\n",
       "Speed_y           -0.1663      0.018     -9.304      0.000      -0.201      -0.131\n",
       "Durability_y      -0.1066      0.025     -4.331      0.000      -0.155      -0.058\n",
       "Power_y           -0.3946      0.019    -20.253      0.000      -0.433      -0.356\n",
       "Combat_y          -0.0430      0.013     -3.383      0.001      -0.068      -0.018\n",
       "==============================================================================\n",
       "Omnibus:                      418.966   Durbin-Watson:                   1.786\n",
       "Prob(Omnibus):                  0.000   Jarque-Bera (JB):              229.651\n",
       "Skew:                           0.004   Prob(JB):                     1.36e-50\n",
       "Kurtosis:                       2.504   Cond. No.                         27.8\n",
       "==============================================================================\n",
       "\n",
       "Notes:\n",
       "[1] R² is computed without centering (uncentered) since the model does not contain a constant.\n",
       "[2] Standard Errors assume that the covariance matrix of the errors is correctly specified.\n",
       "\"\"\""
      ]
     },
     "execution_count": 8,
     "metadata": {},
     "output_type": "execute_result"
    }
   ],
   "source": [
    "#To model the data\n",
    "model = sm.OLS(trainy, trainx).fit()\n",
    "model.summary()"
   ]
  },
  {
   "cell_type": "code",
   "execution_count": null,
   "metadata": {},
   "outputs": [],
   "source": [
    "#The model performs better without a constant. In addition, the p values are below the standard 0.05"
   ]
  },
  {
   "cell_type": "code",
   "execution_count": 23,
   "metadata": {},
   "outputs": [],
   "source": [
    "predy = model.predict(testx)"
   ]
  },
  {
   "cell_type": "code",
   "execution_count": 24,
   "metadata": {},
   "outputs": [
    {
     "data": {
      "text/plain": [
       "<matplotlib.collections.PathCollection at 0x1e3bd65de20>"
      ]
     },
     "execution_count": 24,
     "metadata": {},
     "output_type": "execute_result"
    },
    {
     "data": {
      "image/png": "[encoded data removed]",
      "text/plain": [
       "<Figure size 432x288 with 1 Axes>"
      ]
     },
     "metadata": {
      "needs_background": "light"
     },
     "output_type": "display_data"
    }
   ],
   "source": [
    "plt.scatter(predy, testy)"
   ]
  },
  {
   "cell_type": "code",
   "execution_count": null,
   "metadata": {},
   "outputs": [],
   "source": [
    "#A classification model seems to be a better fit as we want the model to predict the data into a category. In this case, it would be a win, loss or a draw"
   ]
  },
  {
   "cell_type": "code",
   "execution_count": null,
   "metadata": {},
   "outputs": [],
   "source": [
    "#The second attempt is to perform a RandomForestRegressor"
   ]
  },
  {
   "cell_type": "code",
   "execution_count": 9,
   "metadata": {},
   "outputs": [
    {
     "data": {
      "text/plain": [
       "<matplotlib.collections.PathCollection at 0x153b52c5d90>"
      ]
     },
     "execution_count": 9,
     "metadata": {},
     "output_type": "execute_result"
    },
    {
     "data": {
      "image/png": "[encoded data removed]",
      "text/plain": [
       "<Figure size 432x288 with 1 Axes>"
      ]
     },
     "metadata": {
      "needs_background": "light"
     },
     "output_type": "display_data"
    }
   ],
   "source": [
    "forest = RandomForestRegressor(max_depth=10, criterion='poisson').fit(trainx, trainy)\n",
    "predy = forest.predict(testx)\n",
    "plt.scatter(predy, testy)"
   ]
  },
  {
   "cell_type": "code",
   "execution_count": 76,
   "metadata": {},
   "outputs": [],
   "source": [
    "#Gridsearch is performed to find the best parameters\n",
    "pipe = Pipeline([('Forest', RandomForestRegressor())])\n",
    "pipe_params = {\n",
    "    'Forest__min_samples_split': [2, 4, 8],\n",
    "    'Forest__min_samples_leaf' : [1, 4, 10],\n",
    "}"
   ]
  },
  {
   "cell_type": "code",
   "execution_count": 77,
   "metadata": {},
   "outputs": [
    {
     "data": {
      "text/html": [
       "<style>#sk-container-id-3 {color: black;background-color: white;}#sk-container-id-3 pre{padding: 0;}#sk-container-id-3 div.sk-toggleable {background-color: white;}#sk-container-id-3 label.sk-toggleable__label {cursor: pointer;display: block;width: 100%;margin-bottom: 0;padding: 0.3em;box-sizing: border-box;text-align: center;}#sk-container-id-3 label.sk-toggleable__label-arrow:before {content: \"▸\";float: left;margin-right: 0.25em;color: #696969;}#sk-container-id-3 label.sk-toggleable__label-arrow:hover:before {color: black;}#sk-container-id-3 div.sk-estimator:hover label.sk-toggleable__label-arrow:before {color: black;}#sk-container-id-3 div.sk-toggleable__content {max-height: 0;max-width: 0;overflow: hidden;text-align: left;background-color: #f0f8ff;}#sk-container-id-3 div.sk-toggleable__content pre {margin: 0.2em;color: black;border-radius: 0.25em;background-color: #f0f8ff;}#sk-container-id-3 input.sk-toggleable__control:checked~div.sk-toggleable__content {max-height: 200px;max-width: 100%;overflow: auto;}#sk-container-id-3 input.sk-toggleable__control:checked~label.sk-toggleable__label-arrow:before {content: \"▾\";}#sk-container-id-3 div.sk-estimator input.sk-toggleable__control:checked~label.sk-toggleable__label {background-color: #d4ebff;}#sk-container-id-3 div.sk-label input.sk-toggleable__control:checked~label.sk-toggleable__label {background-color: #d4ebff;}#sk-container-id-3 input.sk-hidden--visually {border: 0;clip: rect(1px 1px 1px 1px);clip: rect(1px, 1px, 1px, 1px);height: 1px;margin: -1px;overflow: hidden;padding: 0;position: absolute;width: 1px;}#sk-container-id-3 div.sk-estimator {font-family: monospace;background-color: #f0f8ff;border: 1px dotted black;border-radius: 0.25em;box-sizing: border-box;margin-bottom: 0.5em;}#sk-container-id-3 div.sk-estimator:hover {background-color: #d4ebff;}#sk-container-id-3 div.sk-parallel-item::after {content: \"\";width: 100%;border-bottom: 1px solid gray;flex-grow: 1;}#sk-container-id-3 div.sk-label:hover label.sk-toggleable__label {background-color: #d4ebff;}#sk-container-id-3 div.sk-serial::before {content: \"\";position: absolute;border-left: 1px solid gray;box-sizing: border-box;top: 0;bottom: 0;left: 50%;z-index: 0;}#sk-container-id-3 div.sk-serial {display: flex;flex-direction: column;align-items: center;background-color: white;padding-right: 0.2em;padding-left: 0.2em;position: relative;}#sk-container-id-3 div.sk-item {position: relative;z-index: 1;}#sk-container-id-3 div.sk-parallel {display: flex;align-items: stretch;justify-content: center;background-color: white;position: relative;}#sk-container-id-3 div.sk-item::before, #sk-container-id-3 div.sk-parallel-item::before {content: \"\";position: absolute;border-left: 1px solid gray;box-sizing: border-box;top: 0;bottom: 0;left: 50%;z-index: -1;}#sk-container-id-3 div.sk-parallel-item {display: flex;flex-direction: column;z-index: 1;position: relative;background-color: white;}#sk-container-id-3 div.sk-parallel-item:first-child::after {align-self: flex-end;width: 50%;}#sk-container-id-3 div.sk-parallel-item:last-child::after {align-self: flex-start;width: 50%;}#sk-container-id-3 div.sk-parallel-item:only-child::after {width: 0;}#sk-container-id-3 div.sk-dashed-wrapped {border: 1px dashed gray;margin: 0 0.4em 0.5em 0.4em;box-sizing: border-box;padding-bottom: 0.4em;background-color: white;}#sk-container-id-3 div.sk-label label {font-family: monospace;font-weight: bold;display: inline-block;line-height: 1.2em;}#sk-container-id-3 div.sk-label-container {text-align: center;}#sk-container-id-3 div.sk-container {/* jupyter's `normalize.less` sets `[hidden] { display: none; }` but bootstrap.min.css set `[hidden] { display: none !important; }` so we also need the `!important` here to be able to override the default hidden behavior on the sphinx rendered scikit-learn.org. See: https://github.com/scikit-learn/scikit-learn/issues/21755 */display: inline-block !important;position: relative;}#sk-container-id-3 div.sk-text-repr-fallback {display: none;}</style><div id=\"sk-container-id-3\" class=\"sk-top-container\"><div class=\"sk-text-repr-fallback\"><pre>GridSearchCV(estimator=Pipeline(steps=[(&#x27;Forest&#x27;, RandomForestRegressor())]),\n",
       "             param_grid={&#x27;Forest__min_samples_leaf&#x27;: [1, 4, 10],\n",
       "                         &#x27;Forest__min_samples_split&#x27;: [2, 4, 8]})</pre><b>In a Jupyter environment, please rerun this cell to show the HTML representation or trust the notebook. <br />On GitHub, the HTML representation is unable to render, please try loading this page with nbviewer.org.</b></div><div class=\"sk-container\" hidden><div class=\"sk-item sk-dashed-wrapped\"><div class=\"sk-label-container\"><div class=\"sk-label sk-toggleable\"><input class=\"sk-toggleable__control sk-hidden--visually\" id=\"sk-estimator-id-5\" type=\"checkbox\" ><label for=\"sk-estimator-id-5\" class=\"sk-toggleable__label sk-toggleable__label-arrow\">GridSearchCV</label><div class=\"sk-toggleable__content\"><pre>GridSearchCV(estimator=Pipeline(steps=[(&#x27;Forest&#x27;, RandomForestRegressor())]),\n",
       "             param_grid={&#x27;Forest__min_samples_leaf&#x27;: [1, 4, 10],\n",
       "                         &#x27;Forest__min_samples_split&#x27;: [2, 4, 8]})</pre></div></div></div><div class=\"sk-parallel\"><div class=\"sk-parallel-item\"><div class=\"sk-item\"><div class=\"sk-label-container\"><div class=\"sk-label sk-toggleable\"><input class=\"sk-toggleable__control sk-hidden--visually\" id=\"sk-estimator-id-6\" type=\"checkbox\" ><label for=\"sk-estimator-id-6\" class=\"sk-toggleable__label sk-toggleable__label-arrow\">estimator: Pipeline</label><div class=\"sk-toggleable__content\"><pre>Pipeline(steps=[(&#x27;Forest&#x27;, RandomForestRegressor())])</pre></div></div></div><div class=\"sk-serial\"><div class=\"sk-item\"><div class=\"sk-serial\"><div class=\"sk-item\"><div class=\"sk-estimator sk-toggleable\"><input class=\"sk-toggleable__control sk-hidden--visually\" id=\"sk-estimator-id-7\" type=\"checkbox\" ><label for=\"sk-estimator-id-7\" class=\"sk-toggleable__label sk-toggleable__label-arrow\">RandomForestRegressor</label><div class=\"sk-toggleable__content\"><pre>RandomForestRegressor()</pre></div></div></div></div></div></div></div></div></div></div></div></div>"
      ],
      "text/plain": [
       "GridSearchCV(estimator=Pipeline(steps=[('Forest', RandomForestRegressor())]),\n",
       "             param_grid={'Forest__min_samples_leaf': [1, 4, 10],\n",
       "                         'Forest__min_samples_split': [2, 4, 8]})"
      ]
     },
     "execution_count": 77,
     "metadata": {},
     "output_type": "execute_result"
    }
   ],
   "source": [
    "grid_search = GridSearchCV(pipe, param_grid = pipe_params)\n",
    "grid_search.fit(trainx, trainy)"
   ]
  },
  {
   "cell_type": "code",
   "execution_count": 82,
   "metadata": {},
   "outputs": [
    {
     "data": {
      "text/plain": [
       "{'Forest__min_samples_leaf': 4, 'Forest__min_samples_split': 4}"
      ]
     },
     "execution_count": 82,
     "metadata": {},
     "output_type": "execute_result"
    }
   ],
   "source": [
    "grid_search.best_params_"
   ]
  },
  {
   "cell_type": "code",
   "execution_count": 14,
   "metadata": {},
   "outputs": [
    {
     "data": {
      "text/plain": [
       "<matplotlib.collections.PathCollection at 0x153b72ab9d0>"
      ]
     },
     "execution_count": 14,
     "metadata": {},
     "output_type": "execute_result"
    },
    {
     "data": {
      "image/png": "[encoded data removed]",
      "text/plain": [
       "<Figure size 432x288 with 1 Axes>"
      ]
     },
     "metadata": {
      "needs_background": "light"
     },
     "output_type": "display_data"
    }
   ],
   "source": [
    "forest = RandomForestRegressor(min_samples_leaf= 4, min_samples_split=4).fit(trainx, trainy)\n",
    "predy = forest.predict(testx)\n",
    "plt.scatter(predy, testy)"
   ]
  },
  {
   "cell_type": "code",
   "execution_count": null,
   "metadata": {},
   "outputs": [],
   "source": [
    "#3 Classifications\n"
   ]
  }
 ],
 "metadata": {
  "interpreter": {
   "hash": "0e661c9b9257ab871e53d15472c23269d9549b8940d624631ea5445fdea6d264"
  },
  "kernelspec": {
   "display_name": "Python 3.9.12 ('final_env')",
   "language": "python",
   "name": "python3"
  },
  "language_info": {
   "codemirror_mode": {
    "name": "ipython",
    "version": 3
   },
   "file_extension": ".py",
   "mimetype": "text/x-python",
   "name": "python",
   "nbconvert_exporter": "python",
   "pygments_lexer": "ipython3",
   "version": "3.9.13"
  },
  "orig_nbformat": 4
 },
 "nbformat": 4,
 "nbformat_minor": 2
}
